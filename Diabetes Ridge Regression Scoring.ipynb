{
 "cells": [
  {
   "cell_type": "markdown",
   "metadata": {},
   "source": [
    "Score Data with a Ridge Regression Model Trained on the Diabetes Dataset"
   ]
  },
  {
   "cell_type": "markdown",
   "metadata": {},
   "source": [
    "This notebook loads the model trained in the Diabetes Ridge Regression Training notebook, prepares the data, and scores the data."
   ]
  },
  {
   "cell_type": "code",
   "execution_count": 6,
   "metadata": {},
   "outputs": [
    {
     "ename": "ModuleNotFoundError",
     "evalue": "No module named 'azureml'",
     "output_type": "error",
     "traceback": [
      "\u001b[1;31m---------------------------------------------------------------------------\u001b[0m",
      "\u001b[1;31mModuleNotFoundError\u001b[0m                       Traceback (most recent call last)",
      "\u001b[1;32mc:\\Users\\dell\\Desktop\\MLSA\\intro-to-devops-principles-for-machine-learning\\experimentation\\Diabetes Ridge Regression Scoring.ipynb Cell 3'\u001b[0m in \u001b[0;36m<cell line: 3>\u001b[1;34m()\u001b[0m\n\u001b[0;32m      <a href='vscode-notebook-cell:/c%3A/Users/dell/Desktop/MLSA/intro-to-devops-principles-for-machine-learning/experimentation/Diabetes%20Ridge%20Regression%20Scoring.ipynb#ch0000002?line=0'>1</a>\u001b[0m \u001b[39mimport\u001b[39;00m \u001b[39mjson\u001b[39;00m\n\u001b[0;32m      <a href='vscode-notebook-cell:/c%3A/Users/dell/Desktop/MLSA/intro-to-devops-principles-for-machine-learning/experimentation/Diabetes%20Ridge%20Regression%20Scoring.ipynb#ch0000002?line=1'>2</a>\u001b[0m \u001b[39mimport\u001b[39;00m \u001b[39mnumpy\u001b[39;00m\n\u001b[1;32m----> <a href='vscode-notebook-cell:/c%3A/Users/dell/Desktop/MLSA/intro-to-devops-principles-for-machine-learning/experimentation/Diabetes%20Ridge%20Regression%20Scoring.ipynb#ch0000002?line=2'>3</a>\u001b[0m \u001b[39mfrom\u001b[39;00m \u001b[39mazureml\u001b[39;00m\u001b[39m.\u001b[39;00m\u001b[39mcore\u001b[39;00m\u001b[39m.\u001b[39;00m\u001b[39mmodel\u001b[39;00m \u001b[39mimport\u001b[39;00m Model\n\u001b[0;32m      <a href='vscode-notebook-cell:/c%3A/Users/dell/Desktop/MLSA/intro-to-devops-principles-for-machine-learning/experimentation/Diabetes%20Ridge%20Regression%20Scoring.ipynb#ch0000002?line=3'>4</a>\u001b[0m \u001b[39mimport\u001b[39;00m \u001b[39mjoblib\u001b[39;00m\n",
      "\u001b[1;31mModuleNotFoundError\u001b[0m: No module named 'azureml'"
     ]
    }
   ],
   "source": [
    "import json\n",
    "import numpy\n",
    "from azureml.core.model import Model\n",
    "import joblib"
   ]
  },
  {
   "cell_type": "code",
   "execution_count": 4,
   "metadata": {},
   "outputs": [
    {
     "ename": "ModuleNotFoundError",
     "evalue": "No module named 'azureml'",
     "output_type": "error",
     "traceback": [
      "\u001b[1;31m---------------------------------------------------------------------------\u001b[0m",
      "\u001b[1;31mModuleNotFoundError\u001b[0m                       Traceback (most recent call last)",
      "\u001b[1;32mc:\\Users\\dell\\Desktop\\MLSA\\intro-to-devops-principles-for-machine-learning\\experimentation\\Diabetes Ridge Regression Scoring.ipynb Cell 4'\u001b[0m in \u001b[0;36m<cell line: 3>\u001b[1;34m()\u001b[0m\n\u001b[0;32m      <a href='vscode-notebook-cell:/c%3A/Users/dell/Desktop/MLSA/intro-to-devops-principles-for-machine-learning/experimentation/Diabetes%20Ridge%20Regression%20Scoring.ipynb#ch0000003?line=0'>1</a>\u001b[0m \u001b[39mimport\u001b[39;00m \u001b[39mjson\u001b[39;00m\n\u001b[0;32m      <a href='vscode-notebook-cell:/c%3A/Users/dell/Desktop/MLSA/intro-to-devops-principles-for-machine-learning/experimentation/Diabetes%20Ridge%20Regression%20Scoring.ipynb#ch0000003?line=1'>2</a>\u001b[0m \u001b[39mimport\u001b[39;00m \u001b[39mnumpy\u001b[39;00m\n\u001b[1;32m----> <a href='vscode-notebook-cell:/c%3A/Users/dell/Desktop/MLSA/intro-to-devops-principles-for-machine-learning/experimentation/Diabetes%20Ridge%20Regression%20Scoring.ipynb#ch0000003?line=2'>3</a>\u001b[0m \u001b[39mfrom\u001b[39;00m \u001b[39mazureml\u001b[39;00m\u001b[39m.\u001b[39;00m\u001b[39mcore\u001b[39;00m\u001b[39m.\u001b[39;00m\u001b[39mmodel\u001b[39;00m \u001b[39mimport\u001b[39;00m Model\n\u001b[0;32m      <a href='vscode-notebook-cell:/c%3A/Users/dell/Desktop/MLSA/intro-to-devops-principles-for-machine-learning/experimentation/Diabetes%20Ridge%20Regression%20Scoring.ipynb#ch0000003?line=3'>4</a>\u001b[0m \u001b[39mimport\u001b[39;00m \u001b[39mjoblib\u001b[39;00m\n",
      "\u001b[1;31mModuleNotFoundError\u001b[0m: No module named 'azureml'"
     ]
    }
   ],
   "source": [
    "import json\n",
    "import numpy\n",
    "from azureml.core.model import Model\n",
    "import joblib"
   ]
  },
  {
   "cell_type": "code",
   "execution_count": null,
   "metadata": {},
   "outputs": [],
   "source": [
    "pip install azureml-core"
   ]
  },
  {
   "cell_type": "code",
   "execution_count": null,
   "metadata": {},
   "outputs": [],
   "source": [
    "import json\n",
    "import numpy\n",
    "from azureml.core.model import Model\n",
    "import joblib"
   ]
  },
  {
   "cell_type": "code",
   "execution_count": 2,
   "metadata": {},
   "outputs": [
    {
     "name": "stdout",
     "output_type": "stream",
     "text": [
      "Note: you may need to restart the kernel to use updated packages.\n"
     ]
    },
    {
     "name": "stderr",
     "output_type": "stream",
     "text": [
      "WARNING: Ignoring invalid distribution -ip (c:\\python310\\lib\\site-packages)\n",
      "WARNING: Ignoring invalid distribution - (c:\\python310\\lib\\site-packages)\n",
      "WARNING: Package(s) not found: azureml-core\n"
     ]
    }
   ],
   "source": [
    "\n",
    "pip show azureml-core"
   ]
  },
  {
   "cell_type": "code",
   "execution_count": 3,
   "metadata": {},
   "outputs": [
    {
     "name": "stdout",
     "output_type": "stream",
     "text": [
      "Collecting azureml-core\n",
      "  Using cached azureml_core-1.44.0-py3-none-any.whl (2.7 MB)\n",
      "Collecting ndg-httpsclient<=0.5.1\n",
      "  Using cached ndg_httpsclient-0.5.1-py3-none-any.whl (34 kB)\n",
      "Collecting paramiko<3.0.0,>=2.0.8\n",
      "  Using cached paramiko-2.11.0-py2.py3-none-any.whl (212 kB)\n",
      "Collecting azure-core<2.0.0\n",
      "  Using cached azure_core-1.25.0-py3-none-any.whl (178 kB)\n",
      "Collecting jmespath<=1.0.0\n",
      "  Using cached jmespath-1.0.0-py3-none-any.whl (23 kB)\n",
      "Requirement already satisfied: python-dateutil<3.0.0,>=2.7.3 in c:\\python310\\lib\\site-packages (from azureml-core) (2.8.2)\n",
      "Collecting jsonpickle<3.0.0\n",
      "  Using cached jsonpickle-2.2.0-py2.py3-none-any.whl (39 kB)\n",
      "Collecting azure-mgmt-authorization<3,>=0.40.0\n",
      "  Using cached azure_mgmt_authorization-2.0.0-py2.py3-none-any.whl (465 kB)\n",
      "Collecting docker<6.0.0\n",
      "  Using cached docker-5.0.3-py2.py3-none-any.whl (146 kB)\n",
      "Collecting humanfriendly<11.0,>=4.7\n",
      "  Using cached humanfriendly-10.0-py2.py3-none-any.whl (86 kB)\n",
      "Requirement already satisfied: packaging<22.0,>=20.0 in c:\\python310\\lib\\site-packages (from azureml-core) (21.3)\n",
      "Collecting PyJWT<3.0.0\n",
      "  Using cached PyJWT-2.4.0-py3-none-any.whl (18 kB)\n",
      "Collecting knack~=0.9.0\n",
      "  Using cached knack-0.9.0-py3-none-any.whl (59 kB)\n",
      "Collecting contextlib2<22.0.0\n",
      "  Using cached contextlib2-21.6.0-py2.py3-none-any.whl (13 kB)\n",
      "Collecting azure-mgmt-storage<=20.0.0,>=16.0.0\n",
      "  Using cached azure_mgmt_storage-20.0.0-py3-none-any.whl (2.0 MB)\n",
      "Collecting argcomplete<3\n",
      "  Using cached argcomplete-2.0.0-py2.py3-none-any.whl (37 kB)\n",
      "Collecting pkginfo\n",
      "  Using cached pkginfo-1.8.3-py2.py3-none-any.whl (26 kB)\n",
      "Collecting adal<=1.2.7,>=1.2.0\n",
      "  Using cached adal-1.2.7-py2.py3-none-any.whl (55 kB)\n",
      "Collecting msrest<=0.7.1,>=0.5.1\n",
      "  Using cached msrest-0.7.1-py3-none-any.whl (85 kB)\n",
      "Collecting SecretStorage<4.0.0\n",
      "  Using cached SecretStorage-3.3.3-py3-none-any.whl (15 kB)\n",
      "Collecting msrestazure<=0.6.4,>=0.4.33\n",
      "  Using cached msrestazure-0.6.4-py2.py3-none-any.whl (40 kB)\n",
      "Requirement already satisfied: pytz in c:\\python310\\lib\\site-packages (from azureml-core) (2022.2.1)\n",
      "Collecting cryptography!=1.9,!=2.0.*,!=2.1.*,!=2.2.*,<38.0.0\n",
      "  Using cached cryptography-37.0.4-cp36-abi3-win_amd64.whl (2.4 MB)\n",
      "Collecting msal-extensions<=1.0.0,>=0.3.0\n",
      "  Using cached msal_extensions-1.0.0-py2.py3-none-any.whl (19 kB)\n",
      "Collecting backports.tempfile\n",
      "  Using cached backports.tempfile-1.0-py2.py3-none-any.whl (4.4 kB)\n",
      "Collecting azure-mgmt-resource<22.0.0,>=15.0.0\n",
      "  Using cached azure_mgmt_resource-21.1.0-py3-none-any.whl (1.8 MB)\n",
      "Collecting urllib3<=1.26.9,>=1.23\n",
      "  Using cached urllib3-1.26.9-py2.py3-none-any.whl (138 kB)\n",
      "Collecting azure-graphrbac<1.0.0,>=0.40.0\n",
      "  Using cached azure_graphrbac-0.61.1-py2.py3-none-any.whl (141 kB)\n",
      "Collecting pathspec<1.0.0\n",
      "  Using cached pathspec-0.10.0-py3-none-any.whl (27 kB)\n",
      "Requirement already satisfied: azure-common<2.0.0,>=1.1.12 in c:\\python310\\lib\\site-packages (from azureml-core) (1.1.28)\n",
      "Collecting azure-mgmt-containerregistry<11,>=8.2.0\n",
      "  Using cached azure_mgmt_containerregistry-10.0.0-py3-none-any.whl (1.2 MB)\n",
      "Collecting azure-mgmt-keyvault<11.0.0,>=0.40.0\n",
      "  Using cached azure_mgmt_keyvault-10.1.0-py3-none-any.whl (605 kB)\n",
      "Collecting pyopenssl<23.0.0\n",
      "  Using cached pyOpenSSL-22.0.0-py2.py3-none-any.whl (55 kB)\n",
      "Collecting msal<2.0.0,>=1.15.0\n",
      "  Using cached msal-1.18.0-py2.py3-none-any.whl (82 kB)\n",
      "Collecting requests[socks]<3.0.0,>=2.19.1\n",
      "  Using cached requests-2.28.1-py3-none-any.whl (62 kB)\n",
      "Collecting typing-extensions>=4.0.1\n",
      "  Using cached typing_extensions-4.3.0-py3-none-any.whl (25 kB)\n",
      "Requirement already satisfied: six>=1.11.0 in c:\\python310\\lib\\site-packages (from azure-core<2.0.0->azureml-core) (1.16.0)\n",
      "Collecting azure-mgmt-core<2.0.0,>=1.2.0\n",
      "  Using cached azure_mgmt_core-1.3.2-py3-none-any.whl (26 kB)\n",
      "Collecting cffi>=1.12\n",
      "  Using cached cffi-1.15.1-cp310-cp310-win_amd64.whl (179 kB)\n",
      "Requirement already satisfied: websocket-client>=0.32.0 in c:\\python310\\lib\\site-packages (from docker<6.0.0->azureml-core) (1.4.0)\n",
      "Collecting docker<6.0.0\n",
      "  Using cached docker-5.0.2-py2.py3-none-any.whl (145 kB)\n",
      "  Using cached docker-5.0.1-py2.py3-none-any.whl (145 kB)\n",
      "  Using cached docker-5.0.0-py2.py3-none-any.whl (146 kB)\n",
      "  Using cached docker-4.4.4-py2.py3-none-any.whl (147 kB)\n",
      "  Using cached docker-4.4.3-py2.py3-none-any.whl (146 kB)\n",
      "  Using cached docker-4.4.2-py2.py3-none-any.whl (146 kB)\n",
      "  Using cached docker-4.4.1-py2.py3-none-any.whl (146 kB)\n",
      "  Using cached docker-4.4.0-py2.py3-none-any.whl (146 kB)\n",
      "  Using cached docker-4.3.1-py2.py3-none-any.whl (145 kB)\n",
      "  Using cached docker-4.3.0-py2.py3-none-any.whl (145 kB)\n",
      "  Using cached docker-4.2.2-py2.py3-none-any.whl (144 kB)\n",
      "Collecting pypiwin32==223\n",
      "  Using cached pypiwin32-223-py3-none-any.whl (1.7 kB)\n",
      "Requirement already satisfied: pywin32>=223 in c:\\python310\\lib\\site-packages (from pypiwin32==223->docker<6.0.0->azureml-core) (304)\n",
      "Requirement already satisfied: pyreadline3 in c:\\python310\\lib\\site-packages (from humanfriendly<11.0,>=4.7->azureml-core) (3.4.1)\n",
      "Collecting tabulate\n",
      "  Using cached tabulate-0.8.10-py3-none-any.whl (29 kB)\n",
      "Requirement already satisfied: pygments in c:\\python310\\lib\\site-packages (from knack~=0.9.0->azureml-core) (2.13.0)\n",
      "Collecting pyyaml\n",
      "  Using cached PyYAML-6.0-cp310-cp310-win_amd64.whl (151 kB)\n",
      "Collecting portalocker<3,>=1.6\n",
      "  Using cached portalocker-2.5.1-py2.py3-none-any.whl (15 kB)\n",
      "Collecting requests-oauthlib>=0.5.0\n",
      "  Using cached requests_oauthlib-1.3.1-py2.py3-none-any.whl (23 kB)\n",
      "Collecting certifi>=2017.4.17\n",
      "  Using cached certifi-2022.6.15-py3-none-any.whl (160 kB)\n",
      "Collecting isodate>=0.6.0\n",
      "  Using cached isodate-0.6.1-py2.py3-none-any.whl (41 kB)\n",
      "Requirement already satisfied: pyasn1>=0.1.1 in c:\\python310\\lib\\site-packages (from ndg-httpsclient<=0.5.1->azureml-core) (0.4.8)\n",
      "Requirement already satisfied: pyparsing!=3.0.5,>=2.0.2 in c:\\python310\\lib\\site-packages (from packaging<22.0,>=20.0->azureml-core) (3.0.9)\n",
      "Collecting bcrypt>=3.1.3\n",
      "  Using cached bcrypt-4.0.0-cp36-abi3-win_amd64.whl (153 kB)\n",
      "Collecting pynacl>=1.0.1\n",
      "  Using cached PyNaCl-1.5.0-cp36-abi3-win_amd64.whl (212 kB)\n",
      "Collecting charset-normalizer<3,>=2\n",
      "  Using cached charset_normalizer-2.1.1-py3-none-any.whl (39 kB)\n",
      "Collecting idna<4,>=2.5\n",
      "  Using cached idna-3.3-py3-none-any.whl (61 kB)\n",
      "Collecting PySocks!=1.5.7,>=1.5.6\n",
      "  Using cached PySocks-1.7.1-py3-none-any.whl (16 kB)\n",
      "Collecting jeepney>=0.6\n",
      "  Using cached jeepney-0.8.0-py3-none-any.whl (48 kB)\n",
      "Requirement already satisfied: backports.weakref in c:\\python310\\lib\\site-packages (from backports.tempfile->azureml-core) (1.0.post1)\n",
      "Collecting pycparser\n",
      "  Using cached pycparser-2.21-py2.py3-none-any.whl (118 kB)\n",
      "Collecting oauthlib>=3.0.0\n",
      "  Using cached oauthlib-3.2.0-py3-none-any.whl (151 kB)\n",
      "Installing collected packages: urllib3, typing-extensions, tabulate, pyyaml, PySocks, pypiwin32, PyJWT, pycparser, portalocker, pkginfo, pathspec, oauthlib, jsonpickle, jmespath, jeepney, isodate, idna, humanfriendly, contextlib2, charset-normalizer, certifi, bcrypt, backports.tempfile, argcomplete, requests, knack, cffi, requests-oauthlib, pynacl, docker, cryptography, azure-core, SecretStorage, pyopenssl, paramiko, msrest, azure-mgmt-core, adal, ndg-httpsclient, msrestazure, msal, azure-mgmt-storage, azure-mgmt-resource, azure-mgmt-keyvault, azure-mgmt-containerregistry, azure-mgmt-authorization, msal-extensions, azure-graphrbac, azureml-core\n",
      "Note: you may need to restart the kernel to use updated packages.\n"
     ]
    },
    {
     "name": "stderr",
     "output_type": "stream",
     "text": [
      "WARNING: Ignoring invalid distribution -ip (c:\\python310\\lib\\site-packages)\n",
      "WARNING: Ignoring invalid distribution - (c:\\python310\\lib\\site-packages)\n",
      "WARNING: Ignoring invalid distribution -ip (c:\\python310\\lib\\site-packages)\n",
      "WARNING: Ignoring invalid distribution - (c:\\python310\\lib\\site-packages)\n",
      "WARNING: Ignoring invalid distribution -ip (c:\\python310\\lib\\site-packages)\n",
      "WARNING: Ignoring invalid distribution - (c:\\python310\\lib\\site-packages)\n",
      "  WARNING: Failed to write executable - trying to use .deleteme logic\n",
      "ERROR: Could not install packages due to an OSError: [WinError 2] The system cannot find the file specified: 'c:\\\\Python310\\\\Scripts\\\\tabulate.exe' -> 'c:\\\\Python310\\\\Scripts\\\\tabulate.exe.deleteme'\n",
      "\n",
      "WARNING: Ignoring invalid distribution -ip (c:\\python310\\lib\\site-packages)\n",
      "WARNING: Ignoring invalid distribution - (c:\\python310\\lib\\site-packages)\n",
      "WARNING: Ignoring invalid distribution -ip (c:\\python310\\lib\\site-packages)\n",
      "WARNING: Ignoring invalid distribution - (c:\\python310\\lib\\site-packages)\n",
      "WARNING: Ignoring invalid distribution -ip (c:\\python310\\lib\\site-packages)\n",
      "WARNING: Ignoring invalid distribution - (c:\\python310\\lib\\site-packages)\n",
      "WARNING: You are using pip version 22.0.4; however, version 22.2.2 is available.\n",
      "You should consider upgrading via the 'c:\\Python310\\python.exe -m pip install --upgrade pip' command.\n"
     ]
    }
   ],
   "source": [
    "\n",
    "pip install azureml-core"
   ]
  },
  {
   "cell_type": "code",
   "execution_count": 5,
   "metadata": {},
   "outputs": [
    {
     "ename": "ModuleNotFoundError",
     "evalue": "No module named 'azureml'",
     "output_type": "error",
     "traceback": [
      "\u001b[1;31m---------------------------------------------------------------------------\u001b[0m",
      "\u001b[1;31mModuleNotFoundError\u001b[0m                       Traceback (most recent call last)",
      "\u001b[1;32mc:\\Users\\dell\\Desktop\\MLSA\\intro-to-devops-principles-for-machine-learning\\experimentation\\Diabetes Ridge Regression Scoring.ipynb Cell 9'\u001b[0m in \u001b[0;36m<cell line: 3>\u001b[1;34m()\u001b[0m\n\u001b[0;32m      <a href='vscode-notebook-cell:/c%3A/Users/dell/Desktop/MLSA/intro-to-devops-principles-for-machine-learning/experimentation/Diabetes%20Ridge%20Regression%20Scoring.ipynb#ch0000008?line=0'>1</a>\u001b[0m \u001b[39mimport\u001b[39;00m \u001b[39mjson\u001b[39;00m\n\u001b[0;32m      <a href='vscode-notebook-cell:/c%3A/Users/dell/Desktop/MLSA/intro-to-devops-principles-for-machine-learning/experimentation/Diabetes%20Ridge%20Regression%20Scoring.ipynb#ch0000008?line=1'>2</a>\u001b[0m \u001b[39mimport\u001b[39;00m \u001b[39mnumpy\u001b[39;00m\n\u001b[1;32m----> <a href='vscode-notebook-cell:/c%3A/Users/dell/Desktop/MLSA/intro-to-devops-principles-for-machine-learning/experimentation/Diabetes%20Ridge%20Regression%20Scoring.ipynb#ch0000008?line=2'>3</a>\u001b[0m \u001b[39mfrom\u001b[39;00m \u001b[39mazureml\u001b[39;00m\u001b[39m.\u001b[39;00m\u001b[39mcore\u001b[39;00m\u001b[39m.\u001b[39;00m\u001b[39mmodel\u001b[39;00m \u001b[39mimport\u001b[39;00m Model\n\u001b[0;32m      <a href='vscode-notebook-cell:/c%3A/Users/dell/Desktop/MLSA/intro-to-devops-principles-for-machine-learning/experimentation/Diabetes%20Ridge%20Regression%20Scoring.ipynb#ch0000008?line=3'>4</a>\u001b[0m \u001b[39mimport\u001b[39;00m \u001b[39mjoblib\u001b[39;00m\n",
      "\u001b[1;31mModuleNotFoundError\u001b[0m: No module named 'azureml'"
     ]
    }
   ],
   "source": [
    "import json\n",
    "import numpy\n",
    "from azureml.core.model import Model\n",
    "import joblib"
   ]
  }
 ],
 "metadata": {
  "kernelspec": {
   "display_name": "Python 3.10.5 64-bit",
   "language": "python",
   "name": "python3"
  },
  "language_info": {
   "codemirror_mode": {
    "name": "ipython",
    "version": 3
   },
   "file_extension": ".py",
   "mimetype": "text/x-python",
   "name": "python",
   "nbconvert_exporter": "python",
   "pygments_lexer": "ipython3",
   "version": "3.10.5"
  },
  "orig_nbformat": 4,
  "vscode": {
   "interpreter": {
    "hash": "369f2c481f4da34e4445cda3fffd2e751bd1c4d706f27375911949ba6bb62e1c"
   }
  }
 },
 "nbformat": 4,
 "nbformat_minor": 2
}
